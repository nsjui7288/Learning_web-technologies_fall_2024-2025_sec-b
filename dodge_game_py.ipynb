{
  "nbformat": 4,
  "nbformat_minor": 0,
  "metadata": {
    "colab": {
      "provenance": [],
      "authorship_tag": "ABX9TyP4X+YS5EIk1NIdia0qvN3Q",
      "include_colab_link": true
    },
    "kernelspec": {
      "name": "python3",
      "display_name": "Python 3"
    },
    "language_info": {
      "name": "python"
    }
  },
  "cells": [
    {
      "cell_type": "markdown",
      "metadata": {
        "id": "view-in-github",
        "colab_type": "text"
      },
      "source": [
        "<a href=\"https://colab.research.google.com/github/nsjui7288/Learning_web-technologies_fall_2024-2025_sec-b/blob/main/dodge_game_py.ipynb\" target=\"_parent\"><img src=\"https://colab.research.google.com/assets/colab-badge.svg\" alt=\"Open In Colab\"/></a>"
      ]
    },
    {
      "cell_type": "code",
      "execution_count": 10,
      "metadata": {
        "colab": {
          "base_uri": "https://localhost:8080/"
        },
        "id": "_httAJS8jLzm",
        "outputId": "c219bb89-5272-4842-9532-55cbcc8c7ed9"
      },
      "outputs": [
        {
          "output_type": "stream",
          "name": "stdout",
          "text": [
            "Requirement already satisfied: pygame in /usr/local/lib/python3.11/dist-packages (2.6.1)\n"
          ]
        }
      ],
      "source": [
        "pip install pygame"
      ]
    },
    {
      "cell_type": "code",
      "source": [
        "import pygame\n",
        "import random\n",
        "import sys"
      ],
      "metadata": {
        "id": "Y_dQhZEJjeQa"
      },
      "execution_count": 11,
      "outputs": []
    },
    {
      "cell_type": "code",
      "source": [
        "pygame.init()"
      ],
      "metadata": {
        "colab": {
          "base_uri": "https://localhost:8080/"
        },
        "id": "mh2u_mDejgWY",
        "outputId": "ae729d44-b49c-41c2-b8ea-27026357d0a8"
      },
      "execution_count": 12,
      "outputs": [
        {
          "output_type": "execute_result",
          "data": {
            "text/plain": [
              "(4, 1)"
            ]
          },
          "metadata": {},
          "execution_count": 12
        }
      ]
    },
    {
      "cell_type": "code",
      "source": [
        "WIDTH = 600\n",
        "HEIGHT = 400\n",
        "win = pygame.display.set_mode((WIDTH, HEIGHT))\n",
        "pygame.display.set_caption(\"Dodge the Falling Blocks\")\n"
      ],
      "metadata": {
        "id": "wQpcEAESjrsV"
      },
      "execution_count": 13,
      "outputs": []
    },
    {
      "cell_type": "code",
      "source": [
        "WHITE = (255, 255, 255)\n",
        "RED = (255, 0, 0)\n",
        "BLUE = (0, 0, 255)\n"
      ],
      "metadata": {
        "id": "HDpXtV2tj0B-"
      },
      "execution_count": 14,
      "outputs": []
    },
    {
      "cell_type": "code",
      "source": [
        "player_size = 50\n",
        "player_pos = [WIDTH // 2, HEIGHT - 2 * player_size]\n",
        "player_speed = 10"
      ],
      "metadata": {
        "id": "tPZjSMyYj1W3"
      },
      "execution_count": 15,
      "outputs": []
    },
    {
      "cell_type": "code",
      "source": [
        "enemy_size = 50\n",
        "enemy_pos = [random.randint(0, WIDTH - enemy_size), 0]\n",
        "enemy_speed = 5\n",
        "\n",
        "clock = pygame.time.Clock()\n",
        "font = pygame.font.SysFont(\"monospace\", 35)\n",
        "\n",
        "def detect_collision(player_pos, enemy_pos):\n",
        "    px, py = player_pos\n",
        "    ex, ey = enemy_pos\n",
        "    if (ex < px < ex + enemy_size or ex < px + player_size < ex + enemy_size) and (ey < py < ey + enemy_size or ey < py + player_size < ey + enemy_size):\n",
        "        return True\n",
        "    return False"
      ],
      "metadata": {
        "id": "25NVh9zij7ti"
      },
      "execution_count": 16,
      "outputs": []
    },
    {
      "cell_type": "code",
      "source": [
        "running = True\n",
        "score = 0\n",
        "\n",
        "while running:\n",
        "    win.fill(WHITE)\n",
        "\n",
        "    for event in pygame.event.get():\n",
        "        if event.type == pygame.QUIT:\n",
        "            sys.exit()\n",
        "\n",
        "    keys = pygame.key.get_pressed()\n",
        "    if keys[pygame.K_LEFT] and player_pos[0] > 0:\n",
        "        player_pos[0] -= player_speed\n",
        "    if keys[pygame.K_RIGHT] and player_pos[0] < WIDTH - player_size:\n",
        "        player_pos[0] += player_speed\n",
        "\n",
        "    enemy_pos[1] += enemy_speed\n",
        "\n",
        "    if enemy_pos[1] > HEIGHT:\n",
        "        enemy_pos[1] = 0\n",
        "        enemy_pos[0] = random.randint(0, WIDTH - enemy_size)\n",
        "        score += 1\n",
        "\n",
        "    if detect_collision(player_pos, enemy_pos):\n",
        "        text = font.render(\"Game Over!\", True, RED)\n",
        "        win.blit(text, (WIDTH//3, HEIGHT//2))\n",
        "        pygame.display.update()\n",
        "        pygame.time.delay(2000)\n",
        "        running = False\n",
        "        break\n",
        "\n",
        "    pygame.draw.rect(win, BLUE, (player_pos[0], player_pos[1], player_size, player_size))\n",
        "    pygame.draw.rect(win, RED, (enemy_pos[0], enemy_pos[1], enemy_size, enemy_size))\n",
        "\n",
        "    score_text = font.render(\"Score: \" + str(score), True, (0, 0, 0))\n",
        "    win.blit(score_text, (10, 10))\n",
        "\n",
        "    pygame.display.update()\n",
        "    clock.tick(30)"
      ],
      "metadata": {
        "id": "gavj2655kUR8"
      },
      "execution_count": 17,
      "outputs": []
    }
  ]
}